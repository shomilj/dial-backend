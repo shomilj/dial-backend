{
 "cells": [
  {
   "cell_type": "code",
   "execution_count": 14,
   "id": "formed-simple",
   "metadata": {},
   "outputs": [],
   "source": [
    "import pandas as pd\n",
    "import numpy as np\n",
    "import twint\n",
    "import json\n",
    "import openai\n",
    "from textblob import TextBlob\n",
    "import nest_asyncio\n",
    "nest_asyncio.apply()"
   ]
  },
  {
   "cell_type": "code",
   "execution_count": 29,
   "id": "after-hearing",
   "metadata": {},
   "outputs": [],
   "source": [
    "DEFAULT_KEYWORDS = [\"trump\", \"impeachment\", \"bachelor\", \"covid\"]\n",
    "\n",
    "INFLUENCER_MAP = {\n",
    "    'elonmusk': ['dogecoin', 'POTUS', 'cleantechnica', 'TheOnion', 'TheBabylonBee', 'karpathy', 'Astro_Soichi', 'PopMech', 'PyTorch', 'Nigel_Lockyer', 'jagarikin', 'AstroVicGlover', 'Grimezsz', 'TashaARK'],\n",
    "    'satyanadella': ['Herbert_Diess', 'ChrstnKlein', 'vasujakkal', 'amandaksilver', 'nicoledezen', 'KingJames', 'drhew', 'panos_panay', 'youngdchris', 'MicrosoftWomen'],\n",
    "    'vp': ['LaCasaBlanca', 'SecondGentleman', 'FLOTUS', 'POTUS', 'WhiteHouse', 'SenatorHick', 'RepBowman', 'RepRitchie', 'AlexPadilla4CA', 'AstroAnnimal', 'CASOSvote', 'CAPAction', 'RobBontaCA'], \n",
    "    'stephencurry30': ['BryceCash6', 'Patty_Mills', 'RealDealBeal23', 'gusjohnson', 'arneduncan', 'PatrikFrisk', 'iamcarljones', 'zlurie', 'TSM', 'QCook323'],    \n",
    "}\n",
    "openai.api_key = \"sk-8xLMvhl5qyjjmajkSRQeEuggYQTdspJViTCInd9Y\""
   ]
  },
  {
   "cell_type": "code",
   "execution_count": 106,
   "id": "amino-hotel",
   "metadata": {},
   "outputs": [],
   "source": [
    "def get_tweets_helper(keyword, min_likes, min_retweets, min_replies, limit, verified):\n",
    "    c = twint.Config()\n",
    "    c.Limit = limit\n",
    "    c.Search = keyword\n",
    "    c.Language = \"en\"\n",
    "    c.Pandas = True\n",
    "    c.Store_object = False\n",
    "    c.Hide_output = True\n",
    "    c.User_full = True\n",
    "    c.Min_likes = min_likes\n",
    "    c.Verified = verified\n",
    "    c.Min_replies = min_replies\n",
    "    c.Min_retweets = min_retweets\n",
    "    twint.run.Search(c)\n",
    "    tweets = twint.storage.panda.Tweets_df\n",
    "    return tweets"
   ]
  },
  {
   "cell_type": "code",
   "execution_count": 107,
   "id": "gorgeous-profit",
   "metadata": {},
   "outputs": [],
   "source": [
    "def get_tweets(keyword=None, min_likes=None, min_retweets=None, min_replies=None, limit=100, verified=None):\n",
    "    if keyword:\n",
    "        return get_tweets_helper(keyword, min_likes=min_likes, min_retweets=min_retweets, min_replies=min_replies, limit=limit, verified=verified)\n",
    "    else:\n",
    "        tweets = []\n",
    "        for key in DEFAULT_KEYWORDS:\n",
    "            tweets.append(get_tweets_helper(key, min_likes=min_likes, min_retweets=min_retweets, min_replies=min_replies, limit=limit, verified=verified))\n",
    "        return pd.concat(tweets)"
   ]
  },
  {
   "cell_type": "code",
   "execution_count": 108,
   "id": "adjacent-filling",
   "metadata": {},
   "outputs": [],
   "source": [
    "def get_controversial(keyword=None):\n",
    "    textblob = get_tweets(keyword=keyword, min_likes=500, limit=500)\n",
    "    textblob['tweet'] = textblob['tweet'].astype(str)\n",
    "    polarity = lambda x: TextBlob(x).sentiment.polarity\n",
    "    subjectivity = lambda x: TextBlob(x).sentiment.subjectivity\n",
    "    textblob['polarity'] = textblob['tweet'].apply(polarity)\n",
    "    controversial_tweets = textblob[textblob['polarity'] > 0.30]\n",
    "    return controversial_tweets"
   ]
  },
  {
   "cell_type": "code",
   "execution_count": 109,
   "id": "following-concert",
   "metadata": {},
   "outputs": [],
   "source": [
    "def get_explained(keyword=None):\n",
    "    tweets = get_tweets(keyword=keyword, limit=1000, min_likes=50)\n",
    "    return tweets[tweets['tweet'].str.contains('analysis|explanation|explained', regex=True)]"
   ]
  },
  {
   "cell_type": "code",
   "execution_count": 112,
   "id": "disturbed-special",
   "metadata": {},
   "outputs": [],
   "source": [
    "def get_verified(keyword=None):\n",
    "    return get_tweets(keyword=keyword, limit=100, verified=True)"
   ]
  },
  {
   "cell_type": "code",
   "execution_count": 47,
   "id": "handy-practice",
   "metadata": {},
   "outputs": [],
   "source": [
    "def get_viral(keyword=None):\n",
    "    return get_tweets(keyword, min_likes=50000, min_retweets=1000, min_replies=1000)"
   ]
  },
  {
   "cell_type": "code",
   "execution_count": 48,
   "id": "natural-collapse",
   "metadata": {},
   "outputs": [],
   "source": [
    "def get_user_tweets(username, keyword=None, limit=10):\n",
    "    c = twint.Config()\n",
    "    c.Pandas = True\n",
    "    c.Search = keyword\n",
    "    c.Store_object = False\n",
    "    c.Limit = limit\n",
    "    c.Hide_output = True\n",
    "    c.Username = username\n",
    "    twint.run.Search(c)\n",
    "    tweets = twint.storage.panda.Tweets_df\n",
    "    return tweets"
   ]
  },
  {
   "cell_type": "code",
   "execution_count": 49,
   "id": "ecological-georgia",
   "metadata": {},
   "outputs": [],
   "source": [
    "def get_influencer_feed(influencer, keyword=None):\n",
    "    following = INFLUENCER_MAP[influencer]\n",
    "    tweets = []\n",
    "    for user in following:\n",
    "        tweets.append(get_user_tweets(username=user, keyword=keyword))\n",
    "    return pd.concat(tweets)"
   ]
  },
  {
   "cell_type": "code",
   "execution_count": 52,
   "id": "funded-documentation",
   "metadata": {},
   "outputs": [],
   "source": [
    "def get_openai_positive(keyword=None):\n",
    "    positive_tweets = []\n",
    "    for i, tweet in get_tweets(keyword).iterrows():\n",
    "        response = openai.Completion.create(\n",
    "          engine=\"davinci\",\n",
    "          prompt=f\"Social media post: \\\"{tweet.tweet}\\\"\\nSentiment (positive, neutral, negative):\",\n",
    "          temperature=0,\n",
    "          max_tokens=1,\n",
    "          top_p=1,\n",
    "          frequency_penalty=0,\n",
    "          presence_penalty=0\n",
    "        )\n",
    "        sentiment = response[\"choices\"][0][\"text\"]\n",
    "        if 'positive' in sentiment.lower():\n",
    "            positive_tweets.append(tweet)\n",
    "    return pd.DataFrame(positive_tweets)"
   ]
  },
  {
   "cell_type": "code",
   "execution_count": 124,
   "id": "proved-sample",
   "metadata": {},
   "outputs": [],
   "source": [
    "def api(algo, keyword=None):\n",
    "    try:\n",
    "        if algo.startswith('influencer-'):\n",
    "            result = get_influencer_feed(algo.split(\"-\")[1], keyword=keyword)\n",
    "        else:\n",
    "            algorithms = {\n",
    "                'controversial': get_controversial,\n",
    "                'explained': get_explained,\n",
    "                'verified': get_verified,\n",
    "                'viral': get_viral,\n",
    "                'positive': get_openai_positive,\n",
    "            }\n",
    "            result = algorithms[algo](keyword=keyword)\n",
    "        filtered = result[['conversation_id', 'created_at', 'tweet', 'user_id', 'username', 'name', 'nlikes', 'nreplies', 'nretweets']]\n",
    "        data = filtered.reset_index(drop=True).to_json(orient=\"index\")\n",
    "        return json.dumps(list(json.loads(data).values()))\n",
    "    except Exception as e:\n",
    "        print(e)\n",
    "        return json.dumps({'error': str(e)})"
   ]
  },
  {
   "cell_type": "code",
   "execution_count": null,
   "id": "third-jerusalem",
   "metadata": {},
   "outputs": [],
   "source": []
  }
 ],
 "metadata": {
  "kernelspec": {
   "display_name": "Python 3",
   "language": "python",
   "name": "python3"
  },
  "language_info": {
   "codemirror_mode": {
    "name": "ipython",
    "version": 3
   },
   "file_extension": ".py",
   "mimetype": "text/x-python",
   "name": "python",
   "nbconvert_exporter": "python",
   "pygments_lexer": "ipython3",
   "version": "3.7.9"
  }
 },
 "nbformat": 4,
 "nbformat_minor": 5
}
